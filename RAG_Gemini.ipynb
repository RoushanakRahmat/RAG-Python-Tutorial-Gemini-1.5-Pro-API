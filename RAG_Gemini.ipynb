{
  "nbformat": 4,
  "nbformat_minor": 0,
  "metadata": {
    "colab": {
      "provenance": []
    },
    "kernelspec": {
      "name": "python3",
      "display_name": "Python 3"
    },
    "language_info": {
      "name": "python"
    }
  },
  "cells": [
    {
      "cell_type": "markdown",
      "source": [
        "**Building a Basic RAG Tutorial Using Gemini 1.5 Pro**"
      ],
      "metadata": {
        "id": "4_Tt4-FsLlsL"
      }
    },
    {
      "cell_type": "markdown",
      "source": [
        "First you need to import the libraries:\n",
        "-google.generativeai for the Gemini model\n",
        "-SentenceTransformer for creating embeddings\n",
        "-cosine_similarty for measuring the similarity between two texts by calculating the angle between their vector representations.\n",
        "-numpy for handling data"
      ],
      "metadata": {
        "id": "Ici4TypmLdj1"
      }
    },
    {
      "cell_type": "code",
      "source": [
        "import google.generativeai as genai\n",
        "from sentence_transformers import SentenceTransformer\n",
        "from sklearn.metrics.pairwise import cosine_similarity\n",
        "import numpy as np"
      ],
      "metadata": {
        "id": "3VlyvrzBquGv"
      },
      "execution_count": null,
      "outputs": []
    },
    {
      "cell_type": "markdown",
      "source": [
        "Now you can set up your Gemini API key with your own key"
      ],
      "metadata": {
        "id": "BPtNbjriLxir"
      }
    },
    {
      "cell_type": "code",
      "source": [
        "# Set up Gemini API (replace with your actual API key)\n",
        "genai.configure(api_key=\"ghsfjsfjrsrtyey34343jfh\")"
      ],
      "metadata": {
        "id": "EjRQytqmqzVk"
      },
      "execution_count": null,
      "outputs": []
    },
    {
      "cell_type": "markdown",
      "source": [
        "Then, we initialise:\n",
        "\n",
        "*  LLM → Gemini model that I am using Gemini 1.5 pro but feel free to replace it\n",
        "*  With any other model you prefer such as Gemini 1.5 flash.\n",
        "*  Embeddings: We’ll create embeddings for our sample knowledge base.\n",
        "*  Knowlege Base: a simple list of facts about Paris."
      ],
      "metadata": {
        "id": "-VjUuicZL0FL"
      }
    },
    {
      "cell_type": "code",
      "source": [
        "# Initialize the model\n",
        "model = genai.GenerativeModel('gemini-1.5-pro')\n",
        "\n",
        "# Initialize sentence transformer for embedding\n",
        "embedder = SentenceTransformer('all-MiniLM-L6-v2')\n",
        "\n",
        "# Sample knowledge base\n",
        "knowledge_base = [\n",
        "    \"The capital of France is Paris.\",\n",
        "    \"The Eiffel Tower is located in Paris.\",\n",
        "    \"The Louvre Museum houses the Mona Lisa painting.\",\n",
        "    \"French cuisine is known for dishes like croissants and baguettes.\",\n",
        "    \"The French Revolution began in 1789.\",\n",
        "    \"Paris is divided into 20 arrondissements or districts.\",\n",
        "    \"The Seine River flows through the heart of Paris.\",\n",
        "    \"Notre-Dame Cathedral is a famous Parisian landmark.\",\n",
        "    \"Paris is often referred to as the 'City of Light'.\",\n",
        "    \"The Paris Metro is one of the busiest subway systems in Europe.\"\n",
        "]"
      ],
      "metadata": {
        "id": "PhiWdz3kXigI"
      },
      "execution_count": null,
      "outputs": []
    },
    {
      "cell_type": "markdown",
      "source": [
        "Defining functions:\n",
        "*   retrieve_context: finds the most pertinent data from the knowledge base based on the query using cosine similarity.\n",
        "*   generate_response: uses Gemini to create an answer using the retrieved information and the Gemini LLM.\n",
        "*   rag_with_gemini: brings together the retrieval and generation processes to produce a final response."
      ],
      "metadata": {
        "id": "bMFqfoFbMLDl"
      }
    },
    {
      "cell_type": "code",
      "source": [
        "# Function to retrieve relevant context\n",
        "def retrieve_context(query, knowledge_base, top_k=2):\n",
        "    query_embedding = embedder.encode([query])\n",
        "    context_embeddings = embedder.encode(knowledge_base)\n",
        "\n",
        "    similarities = cosine_similarity(query_embedding, context_embeddings)[0]\n",
        "    top_indices = np.argsort(similarities)[-top_k:]\n",
        "\n",
        "    return [knowledge_base[i] for i in reversed(top_indices)]\n",
        "\n",
        "# Function to generate response using Gemini\n",
        "def generate_response(query, context):\n",
        "    prompt = f\"Context: {' '.join(context)}\\n\\nQuestion: {query}\\n\\nAnswer:\"\n",
        "    response = model.generate_content(prompt)\n",
        "    return response.text\n",
        "\n",
        "# Main RAG function\n",
        "def rag_with_gemini(query):\n",
        "    context = retrieve_context(query, knowledge_base)\n",
        "    response = generate_response(query, context)\n",
        "    return response"
      ],
      "metadata": {
        "id": "Cz32NVrXrFHC"
      },
      "execution_count": null,
      "outputs": []
    },
    {
      "cell_type": "markdown",
      "source": [
        "To test the model, let’s test our RAG system with a simple query: ‘What can you tell me about Paris?’ The system effectively retrieved relevant information from our basic knowledge base about Paris and generates a comprehensive response."
      ],
      "metadata": {
        "id": "zhDDIX7lMX_t"
      }
    },
    {
      "cell_type": "code",
      "source": [
        "# Example usage\n",
        "query = \"What can you tell me about Paris?\"\n",
        "answer = rag_with_gemini(query)\n",
        "print(f\"Question: {query}\")\n",
        "print(f\"Answer: {answer}\")"
      ],
      "metadata": {
        "colab": {
          "base_uri": "https://localhost:8080/",
          "height": 245
        },
        "id": "tl8nL1scrINj",
        "outputId": "a54f31dd-9762-4985-b1b7-f432761184ea"
      },
      "execution_count": null,
      "outputs": [
        {
          "output_type": "stream",
          "name": "stdout",
          "text": [
            "Question: What can you tell me about Paris?\n",
            "Answer: Paris, the capital of France, is often called the \"City of Light\". This nickname is believed to have originated either from its fame as a center of education and ideas during the Enlightenment, or its early adoption of gas street lighting. \n",
            "\n",
            "Beyond its nickname, Paris is known for:\n",
            "\n",
            "* **Iconic landmarks:** The Eiffel Tower, Louvre Museum (home to the Mona Lisa), Arc de Triomphe, Notre Dame Cathedral, and Sacré-Cœur Basilica are just a few of its famous attractions.\n",
            "* **Romance and beauty:**  Paris is considered one of the most romantic cities in the world, known for its charming streets, bridges over the Seine River, and cozy cafes.\n",
            "* **Fashion and culture:**  Paris is a global center for fashion, art, and cuisine, boasting world-renowned designers, museums, and restaurants. \n",
            "* **History:** From its Roman roots to the French Revolution, Paris has a rich and fascinating history that is visible throughout the city. \n",
            "\n",
            "This is just a glimpse of what Paris has to offer.  What else would you like to know? \n",
            "\n"
          ]
        }
      ]
    }
  ]
}